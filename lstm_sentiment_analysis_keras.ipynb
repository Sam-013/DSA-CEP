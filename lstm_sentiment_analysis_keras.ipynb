{
  "cells": [
    {
      "cell_type": "markdown",
      "source": [
        "Sentiment Analysis with LSTM and Keras by 20SW013, 20SW079, 20SW135"
      ],
      "metadata": {
        "id": "aQE9dsQfnUZr"
      }
    },
    {
      "cell_type": "markdown",
      "metadata": {
        "_cell_guid": "39c44f0e-d62c-7e11-a542-4fcd58e21442",
        "_uuid": "4efef6a6c3143fbb6bca5903fc1a764bbbb861c4",
        "id": "0esrIRuKnTl8"
      },
      "source": [
        "As an improvement to my previous [Kernel][1], here I am trying to achieve better results with a Recurrent Neural Network. <br/>\n",
        "You may want to [check out](https://www.kaggle.com/ngyptr/multi-class-classification-with-lstm) my latest kernel on an LSTM multi-class classification problem.\n",
        "\n",
        "  [1]: https://www.kaggle.com/ngyptr/d/crowdflower/first-gop-debate-twitter-sentiment/python-nltk-sentiment-analysis"
      ]
    },
    {
      "cell_type": "code",
      "execution_count": null,
      "metadata": {
        "_cell_guid": "6c53202d-5c34-4859-e7e9-8ef5c7068287",
        "_uuid": "717bb968c36b9325c7d4cae5724a3672e49ff243",
        "execution": {
          "iopub.execute_input": "2023-10-05T07:38:35.486685Z",
          "iopub.status.busy": "2023-10-05T07:38:35.486100Z",
          "iopub.status.idle": "2023-10-05T07:38:35.500204Z",
          "shell.execute_reply": "2023-10-05T07:38:35.498837Z",
          "shell.execute_reply.started": "2023-10-05T07:38:35.486629Z"
        },
        "id": "ls2eP9z9nTmB",
        "outputId": "c11b0dde-78c1-4ac7-fdda-7cb39003f0bf"
      },
      "outputs": [
        {
          "name": "stderr",
          "output_type": "stream",
          "text": [
            "Using TensorFlow backend.\n"
          ]
        }
      ],
      "source": [
        "# This Python 3 environment comes with many helpful analytics libraries installed\n",
        "# It is defined by the kaggle/python docker image: https://github.com/kaggle/docker-python\n",
        "# For example, here's several helpful packages to load in\n",
        "\n",
        "import numpy as np # linear algebra\n",
        "import pandas as pd # data processing, CSV file I/O (e.g. pd.read_csv)\n",
        "\n",
        "from sklearn.feature_extraction.text import CountVectorizer\n",
        "from keras.preprocessing.text import Tokenizer\n",
        "from keras.preprocessing.sequence import pad_sequences\n",
        "from keras.models import Sequential\n",
        "from keras.layers import Dense, Embedding, LSTM, SpatialDropout1D\n",
        "from sklearn.model_selection import train_test_split\n",
        "from keras.utils.np_utils import to_categorical\n",
        "import re\n",
        "\n",
        "# Input data files are available in the \"../input/\" directory.\n",
        "# For example, running this (by clicking run or pressing Shift+Enter) will list the files in the input directory"
      ]
    },
    {
      "cell_type": "markdown",
      "metadata": {
        "_cell_guid": "2bc2702e-d6f4-df5f-b80e-50ab23a6d29e",
        "_uuid": "9b520acffb5cd85d0e1ada968ad0f12cee33a4b5",
        "id": "HoJkBRR-nTmG"
      },
      "source": [
        "Only keeping the necessary columns."
      ]
    },
    {
      "cell_type": "code",
      "execution_count": null,
      "metadata": {
        "_cell_guid": "89c8c923-c0bf-7b35-9ab8-e63f00b74e5a",
        "_uuid": "d2bc3bbd2ea3961c49e6673145a0a7226c160e58",
        "execution": {
          "iopub.execute_input": "2023-10-05T07:38:35.501323Z",
          "iopub.status.busy": "2023-10-05T07:38:35.500988Z",
          "iopub.status.idle": "2023-10-05T07:38:35.592625Z",
          "shell.execute_reply": "2023-10-05T07:38:35.591481Z",
          "shell.execute_reply.started": "2023-10-05T07:38:35.501284Z"
        },
        "id": "upMTqQ1KnTmH"
      },
      "outputs": [],
      "source": [
        "data = pd.read_csv('/kaggle/input/first-gop-debate-twitter-sentiment/Sentiment.csv')"
      ]
    },
    {
      "cell_type": "code",
      "execution_count": null,
      "metadata": {
        "execution": {
          "iopub.execute_input": "2023-10-05T07:38:35.594206Z",
          "iopub.status.busy": "2023-10-05T07:38:35.593901Z",
          "iopub.status.idle": "2023-10-05T07:38:35.600749Z",
          "shell.execute_reply": "2023-10-05T07:38:35.599955Z",
          "shell.execute_reply.started": "2023-10-05T07:38:35.594148Z"
        },
        "id": "d4xpAHr6nTmI"
      },
      "outputs": [],
      "source": [
        "data = data[['sentiment', 'text']]"
      ]
    },
    {
      "cell_type": "code",
      "execution_count": null,
      "metadata": {
        "execution": {
          "iopub.execute_input": "2023-10-05T07:38:35.601993Z",
          "iopub.status.busy": "2023-10-05T07:38:35.601719Z",
          "iopub.status.idle": "2023-10-05T07:38:35.624806Z",
          "shell.execute_reply": "2023-10-05T07:38:35.624241Z",
          "shell.execute_reply.started": "2023-10-05T07:38:35.601940Z"
        },
        "id": "8gVeWrYvnTmJ",
        "outputId": "8de32d72-d87a-4043-dbcf-86cd20c2b831"
      },
      "outputs": [
        {
          "data": {
            "text/html": [
              "<div>\n",
              "<style scoped>\n",
              "    .dataframe tbody tr th:only-of-type {\n",
              "        vertical-align: middle;\n",
              "    }\n",
              "\n",
              "    .dataframe tbody tr th {\n",
              "        vertical-align: top;\n",
              "    }\n",
              "\n",
              "    .dataframe thead th {\n",
              "        text-align: right;\n",
              "    }\n",
              "</style>\n",
              "<table border=\"1\" class=\"dataframe\">\n",
              "  <thead>\n",
              "    <tr style=\"text-align: right;\">\n",
              "      <th></th>\n",
              "      <th>sentiment</th>\n",
              "      <th>text</th>\n",
              "    </tr>\n",
              "  </thead>\n",
              "  <tbody>\n",
              "    <tr>\n",
              "      <th>0</th>\n",
              "      <td>Neutral</td>\n",
              "      <td>RT @NancyLeeGrahn: How did everyone feel about...</td>\n",
              "    </tr>\n",
              "    <tr>\n",
              "      <th>1</th>\n",
              "      <td>Positive</td>\n",
              "      <td>RT @ScottWalker: Didn't catch the full #GOPdeb...</td>\n",
              "    </tr>\n",
              "    <tr>\n",
              "      <th>2</th>\n",
              "      <td>Neutral</td>\n",
              "      <td>RT @TJMShow: No mention of Tamir Rice and the ...</td>\n",
              "    </tr>\n",
              "    <tr>\n",
              "      <th>3</th>\n",
              "      <td>Positive</td>\n",
              "      <td>RT @RobGeorge: That Carly Fiorina is trending ...</td>\n",
              "    </tr>\n",
              "    <tr>\n",
              "      <th>4</th>\n",
              "      <td>Positive</td>\n",
              "      <td>RT @DanScavino: #GOPDebate w/ @realDonaldTrump...</td>\n",
              "    </tr>\n",
              "  </tbody>\n",
              "</table>\n",
              "</div>"
            ],
            "text/plain": [
              "  ...\n",
              "0 ...\n",
              "1 ...\n",
              "2 ...\n",
              "3 ...\n",
              "4 ...\n",
              "\n",
              "[5 rows x 2 columns]"
            ]
          },
          "execution_count": 4,
          "metadata": {},
          "output_type": "execute_result"
        }
      ],
      "source": [
        "data.head()"
      ]
    },
    {
      "cell_type": "markdown",
      "metadata": {
        "_cell_guid": "4c0ec63b-cdf8-8e29-812b-0fbbfcea2929",
        "_uuid": "ff12d183224670f9c4c96fd24581b9924d4dff20",
        "id": "M6zTq0fnnTmK"
      },
      "source": [
        "Next, I am dropping the 'Neutral' sentiments as my goal was to only differentiate positive and negative tweets. After that, I am filtering the tweets so only valid texts and words remain.  Then, I define the number of max features as 2000 and use Tokenizer to vectorize and convert text into Sequences so the Network can deal with it as input."
      ]
    },
    {
      "cell_type": "code",
      "execution_count": null,
      "metadata": {
        "_cell_guid": "43632d2d-6160-12ce-48b0-e5eb1c207076",
        "_uuid": "d0f8b4542106a279f7398db7285ae5e370b2e813",
        "execution": {
          "iopub.execute_input": "2023-10-05T07:38:35.626671Z",
          "iopub.status.busy": "2023-10-05T07:38:35.626357Z",
          "iopub.status.idle": "2023-10-05T07:38:36.855546Z",
          "shell.execute_reply": "2023-10-05T07:38:36.854984Z",
          "shell.execute_reply.started": "2023-10-05T07:38:35.626614Z"
        },
        "id": "3uvxJLNcnTmK",
        "outputId": "ea23a97c-9084-4523-8642-020f8a7f9cc4"
      },
      "outputs": [
        {
          "name": "stdout",
          "output_type": "stream",
          "text": [
            "4472\n",
            "16986\n"
          ]
        }
      ],
      "source": [
        "data = data[data.sentiment != \"Neutral\"]\n",
        "data['text'] = data['text'].apply(lambda x: x.lower())\n",
        "data['text'] = data['text'].apply((lambda x: re.sub('[^a-zA-z0-9\\s]','',x)))\n",
        "\n",
        "print(data[ data['sentiment'] == 'Positive'].size) #Positive\n",
        "print(data[ data['sentiment'] == 'Negative'].size) #Negative\n",
        "\n",
        "for idx,row in data.iterrows():\n",
        "    row[0] = row[0].replace('rt',' ')\n",
        "\n",
        "max_fatures = 2000\n",
        "tokenizer = Tokenizer(num_words=max_fatures, split=' ')\n",
        "tokenizer.fit_on_texts(data['text'].values)\n",
        "X = tokenizer.texts_to_sequences(data['text'].values)\n",
        "X = pad_sequences(X)"
      ]
    },
    {
      "cell_type": "markdown",
      "metadata": {
        "_cell_guid": "9753421e-1303-77d5-b17f-5f25fa08c452",
        "_uuid": "aa7d103e946e631133d86ef3adc73e1a8b1a1e89",
        "id": "ItBKIVzUnTmM"
      },
      "source": [
        "Next, I compose the LSTM Network. Note that **embed_dim**, **lstm_out**, **batch_size**, **droupout_x** variables are hyperparameters, their values are somehow intuitive, can be and must be played with in order to achieve good results. Please also note that I am using softmax as activation function. The reason is that our Network is using categorical crossentropy, and softmax is just the right activation method for that."
      ]
    },
    {
      "cell_type": "code",
      "execution_count": null,
      "metadata": {
        "_cell_guid": "1ba3cf60-a83c-9c21-05e0-b14303027e93",
        "_uuid": "05cb9ef0ec9e0a4067e3ab7c1bda7b2c1211feda",
        "execution": {
          "iopub.execute_input": "2023-10-05T07:38:36.856733Z",
          "iopub.status.busy": "2023-10-05T07:38:36.856429Z",
          "iopub.status.idle": "2023-10-05T07:38:37.203599Z",
          "shell.execute_reply": "2023-10-05T07:38:37.202273Z",
          "shell.execute_reply.started": "2023-10-05T07:38:36.856696Z"
        },
        "id": "MUpR21kfnTmN",
        "outputId": "bf6d15bd-7d29-474f-c406-76bca1dc0abe"
      },
      "outputs": [
        {
          "name": "stdout",
          "output_type": "stream",
          "text": [
            "_________________________________________________________________\n",
            "Layer (type)                 Output Shape              Param #   \n",
            "=================================================================\n",
            "embedding_1 (Embedding)      (None, 28, 128)           256000    \n",
            "_________________________________________________________________\n",
            "spatial_dropout1d_1 (Spatial (None, 28, 128)           0         \n",
            "_________________________________________________________________\n",
            "lstm_1 (LSTM)                (None, 196)               254800    \n",
            "_________________________________________________________________\n",
            "dense_1 (Dense)              (None, 2)                 394       \n",
            "=================================================================\n",
            "Total params: 511,194\n",
            "Trainable params: 511,194\n",
            "Non-trainable params: 0\n",
            "_________________________________________________________________\n",
            "None\n"
          ]
        }
      ],
      "source": [
        "embed_dim = 128\n",
        "lstm_out = 196\n",
        "\n",
        "model = Sequential()\n",
        "model.add(Embedding(max_fatures, embed_dim,input_length = X.shape[1]))\n",
        "model.add(SpatialDropout1D(0.4))\n",
        "model.add(LSTM(lstm_out, dropout=0.2, recurrent_dropout=0.2))\n",
        "model.add(Dense(2,activation='softmax'))\n",
        "model.compile(loss = 'categorical_crossentropy', optimizer='adam',metrics = ['accuracy'])\n",
        "print(model.summary())"
      ]
    },
    {
      "cell_type": "markdown",
      "metadata": {
        "_cell_guid": "15f4ee61-47e4-88c4-4b81-98a85237333f",
        "_uuid": "2dae0f3b95a4ba533453c512e573560a8358e162",
        "id": "UW_kbxiknTmO"
      },
      "source": [
        "Hereby I declare the train and test dataset."
      ]
    },
    {
      "cell_type": "code",
      "execution_count": null,
      "metadata": {
        "_cell_guid": "b35748b8-2353-3db2-e571-5fd22bb93eb0",
        "_uuid": "a380bbfae2d098d407b138fc44622c9913a31c07",
        "execution": {
          "iopub.execute_input": "2023-10-05T07:38:37.205608Z",
          "iopub.status.busy": "2023-10-05T07:38:37.205296Z",
          "iopub.status.idle": "2023-10-05T07:38:37.216687Z",
          "shell.execute_reply": "2023-10-05T07:38:37.215712Z",
          "shell.execute_reply.started": "2023-10-05T07:38:37.205550Z"
        },
        "id": "vH4Q2hJ8nTmP",
        "outputId": "397610d8-6b13-4309-c78a-c732e029b375"
      },
      "outputs": [
        {
          "name": "stdout",
          "output_type": "stream",
          "text": [
            "(7188, 28) (7188, 2)\n",
            "(3541, 28) (3541, 2)\n"
          ]
        }
      ],
      "source": [
        "Y = pd.get_dummies(data['sentiment']).values\n",
        "X_train, X_test, Y_train, Y_test = train_test_split(X,Y, test_size = 0.33, random_state = 42)\n",
        "print(X_train.shape,Y_train.shape)\n",
        "print(X_test.shape,Y_test.shape)"
      ]
    },
    {
      "cell_type": "markdown",
      "metadata": {
        "_cell_guid": "2a775979-a930-e627-2963-18557d7bf6e6",
        "_uuid": "8799a667a2c0254cb367c193d86e07ee36d91dd7",
        "id": "xhmwiz6cnTmQ"
      },
      "source": [
        "Here we train the Network. We should run much more than 7 epoch, but I would have to wait forever for kaggle, so it is 7 for now."
      ]
    },
    {
      "cell_type": "code",
      "execution_count": null,
      "metadata": {
        "_cell_guid": "d5e499ac-2eba-6ff7-8d9a-ff65eb04099b",
        "_uuid": "d0b239912cf67294a9f5af6883bb159c44318fc7",
        "execution": {
          "iopub.execute_input": "2023-10-05T07:44:54.355459Z",
          "iopub.status.busy": "2023-10-05T07:44:54.355047Z",
          "iopub.status.idle": "2023-10-05T07:48:45.573604Z",
          "shell.execute_reply": "2023-10-05T07:48:45.518411Z",
          "shell.execute_reply.started": "2023-10-05T07:44:54.355401Z"
        },
        "id": "HQsJHBztnTmQ",
        "outputId": "e21e6f29-4ec5-4c61-8b9f-97442bb2201d"
      },
      "outputs": [
        {
          "name": "stdout",
          "output_type": "stream",
          "text": [
            "Epoch 1/40\n",
            " - 12s - loss: 0.4431 - acc: 0.8127\n",
            "Epoch 2/40\n",
            " - 11s - loss: 0.3257 - acc: 0.8635\n",
            "Epoch 3/40\n",
            " - 11s - loss: 0.2832 - acc: 0.8836\n",
            "Epoch 4/40\n",
            " - 12s - loss: 0.2493 - acc: 0.8961\n",
            "Epoch 5/40\n",
            " - 11s - loss: 0.2248 - acc: 0.9090\n",
            "Epoch 6/40\n",
            " - 11s - loss: 0.1998 - acc: 0.9164\n",
            "Epoch 7/40\n",
            " - 11s - loss: 0.1877 - acc: 0.9245\n",
            "Epoch 8/40\n",
            " - 11s - loss: 0.1665 - acc: 0.9345\n",
            "Epoch 9/40\n",
            " - 11s - loss: 0.1534 - acc: 0.9375\n",
            "Epoch 10/40\n",
            " - 11s - loss: 0.1421 - acc: 0.9439\n",
            "Epoch 11/40\n",
            " - 11s - loss: 0.1319 - acc: 0.9452\n",
            "Epoch 12/40\n",
            " - 11s - loss: 0.1247 - acc: 0.9482\n",
            "Epoch 13/40\n",
            " - 12s - loss: 0.1136 - acc: 0.9546\n",
            "Epoch 14/40\n",
            " - 11s - loss: 0.1155 - acc: 0.9521\n",
            "Epoch 15/40\n",
            " - 11s - loss: 0.1057 - acc: 0.9558\n",
            "Epoch 16/40\n",
            " - 11s - loss: 0.1070 - acc: 0.9562\n",
            "Epoch 17/40\n",
            " - 11s - loss: 0.1041 - acc: 0.9583\n",
            "Epoch 18/40\n",
            " - 11s - loss: 0.0978 - acc: 0.9581\n",
            "Epoch 19/40\n",
            " - 11s - loss: 0.0931 - acc: 0.9623\n",
            "Epoch 20/40\n",
            " - 11s - loss: 0.0917 - acc: 0.9637\n",
            "Epoch 21/40\n",
            " - 11s - loss: 0.0952 - acc: 0.9627\n",
            "Epoch 22/40\n",
            " - 11s - loss: 0.0824 - acc: 0.9640\n",
            "Epoch 23/40\n",
            " - 12s - loss: 0.0816 - acc: 0.9674\n",
            "Epoch 24/40\n",
            " - 11s - loss: 0.0852 - acc: 0.9642\n",
            "Epoch 25/40\n",
            " - 11s - loss: 0.0800 - acc: 0.9661\n",
            "Epoch 26/40\n",
            " - 11s - loss: 0.0775 - acc: 0.9656\n",
            "Epoch 27/40\n",
            " - 11s - loss: 0.0814 - acc: 0.9649\n",
            "Epoch 28/40\n",
            " - 11s - loss: 0.0752 - acc: 0.9665\n",
            "Epoch 29/40\n",
            " - 11s - loss: 0.0780 - acc: 0.9683\n",
            "Epoch 30/40\n",
            " - 12s - loss: 0.0741 - acc: 0.9702\n",
            "Epoch 31/40\n",
            " - 11s - loss: 0.0703 - acc: 0.9693\n",
            "Epoch 32/40\n",
            " - 11s - loss: 0.0711 - acc: 0.9709\n",
            "Epoch 33/40\n",
            " - 11s - loss: 0.0705 - acc: 0.9695\n",
            "Epoch 34/40\n",
            " - 12s - loss: 0.0726 - acc: 0.9701\n",
            "Epoch 35/40\n",
            " - 11s - loss: 0.0703 - acc: 0.9705\n",
            "Epoch 36/40\n",
            " - 11s - loss: 0.0710 - acc: 0.9708\n",
            "Epoch 37/40\n",
            " - 12s - loss: 0.0671 - acc: 0.9726\n",
            "Epoch 38/40\n",
            " - 11s - loss: 0.0703 - acc: 0.9708\n",
            "Epoch 39/40\n",
            " - 11s - loss: 0.0692 - acc: 0.9716\n",
            "Epoch 40/40\n",
            " - 11s - loss: 0.0662 - acc: 0.9719\n"
          ]
        },
        {
          "data": {
            "text/plain": [
              "<keras.callbacks.History at 0x7dffe479d0f0>"
            ]
          },
          "execution_count": 8,
          "metadata": {},
          "output_type": "execute_result"
        }
      ],
      "source": [
        "batch_size = 32\n",
        "model.fit(X_train, Y_train, epochs = 40, batch_size=batch_size, verbose = 2)"
      ]
    },
    {
      "cell_type": "markdown",
      "metadata": {
        "_cell_guid": "4ebd7bc1-53c0-0e31-a0b0-b6d0a3017434",
        "_uuid": "47e99d7ed1f27a85eb01dbafc71b66b329fb1d12",
        "id": "dHrCFEZknTmR"
      },
      "source": [
        "Extracting a validation set, and measuring score and accuracy."
      ]
    },
    {
      "cell_type": "code",
      "execution_count": null,
      "metadata": {
        "_cell_guid": "a970f412-722f-6d6d-72c8-325d0901ccef",
        "_uuid": "7872f6ea819a5d4d08394ba6db8436f9cb2cfe1c",
        "execution": {
          "iopub.execute_input": "2023-10-05T07:48:50.980195Z",
          "iopub.status.busy": "2023-10-05T07:48:50.979934Z",
          "iopub.status.idle": "2023-10-05T07:48:51.155809Z",
          "shell.execute_reply": "2023-10-05T07:48:51.155186Z",
          "shell.execute_reply.started": "2023-10-05T07:48:50.980148Z"
        },
        "id": "5Qani6T8nTmS",
        "outputId": "256d47b2-6af7-4864-93ba-b21e5ab12a8c"
      },
      "outputs": [
        {
          "name": "stdout",
          "output_type": "stream",
          "text": [
            "score: 1.10\n",
            "acc: 0.81\n"
          ]
        }
      ],
      "source": [
        "validation_size = 1500\n",
        "\n",
        "X_validate = X_test[-validation_size:]\n",
        "Y_validate = Y_test[-validation_size:]\n",
        "X_test = X_test[:-validation_size]\n",
        "Y_test = Y_test[:-validation_size]\n",
        "score,acc = model.evaluate(X_test, Y_test, verbose = 2, batch_size = batch_size)\n",
        "print(\"score: %.2f\" % (score))\n",
        "print(\"acc: %.2f\" % (acc))"
      ]
    },
    {
      "cell_type": "markdown",
      "metadata": {
        "_cell_guid": "018ebf39-9414-27d0-232c-a34de051feaf",
        "_uuid": "4b54f18bbf22a953c60f271c318cb076e684df9c",
        "id": "wrfSt6penTmT"
      },
      "source": [
        "Finally measuring the number of correct guesses.  It is clear that finding negative tweets goes very well for the Network but deciding whether is positive is not really. My educated guess here is that the positive training set is dramatically smaller than the negative, hence the \"bad\" results for positive tweets."
      ]
    },
    {
      "cell_type": "code",
      "execution_count": null,
      "metadata": {
        "_cell_guid": "1add73e9-c6fb-7e4c-8715-ea92f519d2a6",
        "_uuid": "f80e9f3cf281adb3ab0357cbf6f886eb1dce3005",
        "execution": {
          "iopub.execute_input": "2023-10-05T07:48:56.777905Z",
          "iopub.status.busy": "2023-10-05T07:48:56.777628Z",
          "iopub.status.idle": "2023-10-05T07:49:02.601782Z",
          "shell.execute_reply": "2023-10-05T07:49:02.601193Z",
          "shell.execute_reply.started": "2023-10-05T07:48:56.777871Z"
        },
        "id": "EbthpapunTmT",
        "outputId": "f3cc7cda-19ca-493f-a945-368bbf98b183"
      },
      "outputs": [
        {
          "name": "stdout",
          "output_type": "stream",
          "text": [
            "pos_acc 63.10679611650486 %\n",
            "neg_acc 86.0621326616289 %\n"
          ]
        }
      ],
      "source": [
        "pos_cnt, neg_cnt, pos_correct, neg_correct = 0, 0, 0, 0\n",
        "for x in range(len(X_validate)):\n",
        "\n",
        "    result = model.predict(X_validate[x].reshape(1,X_test.shape[1]),batch_size=1,verbose = 2)[0]\n",
        "\n",
        "    if np.argmax(result) == np.argmax(Y_validate[x]):\n",
        "        if np.argmax(Y_validate[x]) == 0:\n",
        "            neg_correct += 1\n",
        "        else:\n",
        "            pos_correct += 1\n",
        "\n",
        "    if np.argmax(Y_validate[x]) == 0:\n",
        "        neg_cnt += 1\n",
        "    else:\n",
        "        pos_cnt += 1\n",
        "\n",
        "\n",
        "\n",
        "print(\"pos_acc\", pos_correct/pos_cnt*100, \"%\")\n",
        "print(\"neg_acc\", neg_correct/neg_cnt*100, \"%\")"
      ]
    },
    {
      "cell_type": "markdown",
      "metadata": {
        "_cell_guid": "890a03c9-316e-4d55-98e1-ba29045eff6c",
        "_uuid": "cfcbefe939b72297019e221ca3f5a283974bffff",
        "id": "kv8cNcFMnTmU"
      },
      "source": [
        "As it was requested by the crowd, I extended the kernel with a prediction example, and also updated the API calls to Keras 2.0. Please note that the network performs poorly. Its because the training data is very unbalanced (pos: 4472, neg: 16986), you should get more data, use other dataset, use pre-trained model, or weight classes to achieve reliable predictions.\n",
        "\n",
        "I have created this kernel when I knew much less about LSTM & ML. It is a really basic, beginner level kernel, yet it had a huge audience in the past year. I had a lot of private questions and requests regarding this notebook and I tried my best to help and answer them . In the future I am not planning to answer custom questions and support/enhance this kernel in any ways. Thank you my folks :)"
      ]
    },
    {
      "cell_type": "code",
      "execution_count": null,
      "metadata": {
        "_cell_guid": "24c64f46-edd1-8d0b-7c7c-ef50fd26b2fd",
        "_uuid": "d9aac68e2013b3beffb6a764cc5b85be83073e66",
        "execution": {
          "iopub.execute_input": "2023-10-05T07:55:14.170423Z",
          "iopub.status.busy": "2023-10-05T07:55:14.170041Z",
          "iopub.status.idle": "2023-10-05T07:55:14.187948Z",
          "shell.execute_reply": "2023-10-05T07:55:14.187336Z",
          "shell.execute_reply.started": "2023-10-05T07:55:14.170358Z"
        },
        "id": "g9rFkkEqnTmV",
        "outputId": "3019d2b2-c702-4751-e333-5fb621d24525"
      },
      "outputs": [
        {
          "name": "stdout",
          "output_type": "stream",
          "text": [
            "[[0 0 0 0 0 0 0 0 0 0 0 0 0 0 0 0 0 0 0 0 0 0 0 0 0 0 0 0]]\n",
            "positive\n"
          ]
        }
      ],
      "source": [
        "twt = ['']\n",
        "#vectorizing the tweet by the pre-fitted tokenizer instance\n",
        "twt = tokenizer.texts_to_sequences(twt)\n",
        "#padding the tweet to have exactly the same shape as `embedding_2` input\n",
        "twt = pad_sequences(twt, maxlen=28, dtype='int32', value=0)\n",
        "print(twt)\n",
        "sentiment = model.predict(twt,batch_size=1,verbose = 2)[0]\n",
        "if(np.argmax(sentiment) == 0):\n",
        "    print(\"negative\")\n",
        "elif (np.argmax(sentiment) == 1):\n",
        "    print(\"positive\")"
      ]
    }
  ],
  "metadata": {
    "kernelspec": {
      "display_name": "Python 3",
      "language": "python",
      "name": "python3"
    },
    "language_info": {
      "codemirror_mode": {
        "name": "ipython",
        "version": 3
      },
      "file_extension": ".py",
      "mimetype": "text/x-python",
      "name": "python",
      "nbconvert_exporter": "python",
      "pygments_lexer": "ipython3",
      "version": "3.6.4"
    },
    "colab": {
      "provenance": []
    }
  },
  "nbformat": 4,
  "nbformat_minor": 0
}